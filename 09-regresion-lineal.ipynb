{
 "cells": [
  {
   "cell_type": "markdown",
   "metadata": {},
   "source": [
    "# Regresion Lineal"
   ]
  },
  {
   "cell_type": "code",
   "execution_count": 1,
   "metadata": {},
   "outputs": [],
   "source": [
    "import pandas as pd\n",
    "import numpy as np\n",
    "import matplotlib.pyplot as plt"
   ]
  },
  {
   "cell_type": "markdown",
   "metadata": {},
   "source": [
    "## Modelos con datos simulados\n",
    " * y = a + b.x\n",
    " * x: 100 valores distribuidos normal entre 1.5,2.5\n",
    " * e: estata distribuido normal 0,0.8\n",
    " * y = 6 + 1.3 * x + e"
   ]
  },
  {
   "cell_type": "code",
   "execution_count": 2,
   "metadata": {},
   "outputs": [],
   "source": [
    "np.random.seed(40322574)"
   ]
  },
  {
   "cell_type": "code",
   "execution_count": 3,
   "metadata": {},
   "outputs": [],
   "source": [
    "x = 1.5 + 2.5 * np.random.randn(100)\n",
    "e = 0.5 * np.random.randn(100)\n",
    "y_predicha = 6 + 1.3*x\n",
    "y_actual = y_predicha + e"
   ]
  },
  {
   "cell_type": "code",
   "execution_count": 4,
   "metadata": {},
   "outputs": [],
   "source": [
    "x_list = x.tolist()\n",
    "y_pred_list = y_predicha.tolist()\n",
    "y_actual_list = y_actual.tolist()"
   ]
  },
  {
   "cell_type": "code",
   "execution_count": 5,
   "metadata": {},
   "outputs": [],
   "source": [
    "data = pd.DataFrame(\n",
    "    {\n",
    "        'x': x_list,\n",
    "        'y': y_actual_list,\n",
    "        'Prediccion': y_pred_list\n",
    "    }\n",
    ")"
   ]
  },
  {
   "cell_type": "code",
   "execution_count": 6,
   "metadata": {},
   "outputs": [],
   "source": [
    "data.head()\n",
    "y_mean = [np.mean(y_actual) for i in range(1,len(x_list)+1)]"
   ]
  },
  {
   "cell_type": "code",
   "execution_count": 7,
   "metadata": {},
   "outputs": [
    {
     "data": {
      "text/plain": [
       "Text(0.5,1,'valor actual versus prediccion')"
      ]
     },
     "execution_count": 7,
     "metadata": {},
     "output_type": "execute_result"
    },
    {
     "data": {
      "image/png": "[encoded data removed]",
      "text/plain": [
       "<Figure size 432x288 with 1 Axes>"
      ]
     },
     "metadata": {
      "needs_background": "light"
     },
     "output_type": "display_data"
    }
   ],
   "source": [
    "%matplotlib inline\n",
    "plt.plot(x,y_predicha)\n",
    "plt.plot(x,y_actual, 'ro')\n",
    "plt.plot(x,y_mean)\n",
    "plt.title(\"valor actual versus prediccion\")"
   ]
  },
  {
   "cell_type": "code",
   "execution_count": 8,
   "metadata": {},
   "outputs": [],
   "source": [
    "data['SSR'] = (data['Prediccion'] - np.mean(y_actual))**2\n",
    "data['SSD'] = (data['Prediccion'] - data['y'])**2\n",
    "data['SST'] = (data['y'] - np.mean(data['y']))**2"
   ]
  },
  {
   "cell_type": "code",
   "execution_count": 9,
   "metadata": {},
   "outputs": [
    {
     "data": {
      "text/html": [
       "<div>\n",
       "<style scoped>\n",
       "    .dataframe tbody tr th:only-of-type {\n",
       "        vertical-align: middle;\n",
       "    }\n",
       "\n",
       "    .dataframe tbody tr th {\n",
       "        vertical-align: top;\n",
       "    }\n",
       "\n",
       "    .dataframe thead th {\n",
       "        text-align: right;\n",
       "    }\n",
       "</style>\n",
       "<table border=\"1\" class=\"dataframe\">\n",
       "  <thead>\n",
       "    <tr style=\"text-align: right;\">\n",
       "      <th></th>\n",
       "      <th>x</th>\n",
       "      <th>y</th>\n",
       "      <th>Prediccion</th>\n",
       "      <th>SSR</th>\n",
       "      <th>SSD</th>\n",
       "      <th>SST</th>\n",
       "    </tr>\n",
       "  </thead>\n",
       "  <tbody>\n",
       "    <tr>\n",
       "      <th>0</th>\n",
       "      <td>0.206383</td>\n",
       "      <td>6.833371</td>\n",
       "      <td>6.268298</td>\n",
       "      <td>3.153598</td>\n",
       "      <td>0.319308</td>\n",
       "      <td>1.465949</td>\n",
       "    </tr>\n",
       "    <tr>\n",
       "      <th>1</th>\n",
       "      <td>3.641106</td>\n",
       "      <td>10.544950</td>\n",
       "      <td>10.733437</td>\n",
       "      <td>7.232345</td>\n",
       "      <td>0.035527</td>\n",
       "      <td>6.254074</td>\n",
       "    </tr>\n",
       "    <tr>\n",
       "      <th>2</th>\n",
       "      <td>3.905820</td>\n",
       "      <td>10.657467</td>\n",
       "      <td>11.077567</td>\n",
       "      <td>9.201706</td>\n",
       "      <td>0.176484</td>\n",
       "      <td>6.829501</td>\n",
       "    </tr>\n",
       "    <tr>\n",
       "      <th>3</th>\n",
       "      <td>0.414840</td>\n",
       "      <td>7.274489</td>\n",
       "      <td>6.539292</td>\n",
       "      <td>2.264554</td>\n",
       "      <td>0.540515</td>\n",
       "      <td>0.592355</td>\n",
       "    </tr>\n",
       "    <tr>\n",
       "      <th>4</th>\n",
       "      <td>1.625208</td>\n",
       "      <td>7.905863</td>\n",
       "      <td>8.112770</td>\n",
       "      <td>0.004711</td>\n",
       "      <td>0.042811</td>\n",
       "      <td>0.019119</td>\n",
       "    </tr>\n",
       "  </tbody>\n",
       "</table>\n",
       "</div>"
      ],
      "text/plain": [
       "          x          y  Prediccion       SSR       SSD       SST\n",
       "0  0.206383   6.833371    6.268298  3.153598  0.319308  1.465949\n",
       "1  3.641106  10.544950   10.733437  7.232345  0.035527  6.254074\n",
       "2  3.905820  10.657467   11.077567  9.201706  0.176484  6.829501\n",
       "3  0.414840   7.274489    6.539292  2.264554  0.540515  0.592355\n",
       "4  1.625208   7.905863    8.112770  0.004711  0.042811  0.019119"
      ]
     },
     "execution_count": 9,
     "metadata": {},
     "output_type": "execute_result"
    }
   ],
   "source": [
    "data.head()"
   ]
  },
  {
   "cell_type": "code",
   "execution_count": 10,
   "metadata": {},
   "outputs": [],
   "source": [
    "SSR = sum(data['SSR'])\n",
    "SSD = sum(data['SSD'])\n",
    "SST = sum(data['SST'])"
   ]
  },
  {
   "cell_type": "code",
   "execution_count": 11,
   "metadata": {},
   "outputs": [
    {
     "data": {
      "text/plain": [
       "751.1645477661247"
      ]
     },
     "execution_count": 11,
     "metadata": {},
     "output_type": "execute_result"
    }
   ],
   "source": [
    "SSR"
   ]
  },
  {
   "cell_type": "code",
   "execution_count": 12,
   "metadata": {},
   "outputs": [
    {
     "data": {
      "text/plain": [
       "24.552140867637032"
      ]
     },
     "execution_count": 12,
     "metadata": {},
     "output_type": "execute_result"
    }
   ],
   "source": [
    "SSD"
   ]
  },
  {
   "cell_type": "code",
   "execution_count": 13,
   "metadata": {},
   "outputs": [
    {
     "data": {
      "text/plain": [
       "756.7882234324456"
      ]
     },
     "execution_count": 13,
     "metadata": {},
     "output_type": "execute_result"
    }
   ],
   "source": [
    "SST"
   ]
  },
  {
   "cell_type": "code",
   "execution_count": 14,
   "metadata": {},
   "outputs": [],
   "source": [
    "R2 = SSR/SST"
   ]
  },
  {
   "cell_type": "code",
   "execution_count": 15,
   "metadata": {},
   "outputs": [
    {
     "data": {
      "text/plain": [
       "0.9925690232852533"
      ]
     },
     "execution_count": 15,
     "metadata": {},
     "output_type": "execute_result"
    }
   ],
   "source": [
    "R2"
   ]
  },
  {
   "cell_type": "code",
   "execution_count": 16,
   "metadata": {},
   "outputs": [
    {
     "data": {
      "text/plain": [
       "(array([ 2.,  3.,  4., 15., 23., 13., 21.,  8.,  8.,  3.]),\n",
       " array([-1.30766239, -1.05868949, -0.80971659, -0.5607437 , -0.3117708 ,\n",
       "        -0.0627979 ,  0.186175  ,  0.4351479 ,  0.68412079,  0.93309369,\n",
       "         1.18206659]),\n",
       " <a list of 10 Patch objects>)"
      ]
     },
     "execution_count": 16,
     "metadata": {},
     "output_type": "execute_result"
    },
    {
     "data": {
      "image/png": "[encoded data removed]",
      "text/plain": [
       "<Figure size 432x288 with 1 Axes>"
      ]
     },
     "metadata": {
      "needs_background": "light"
     },
     "output_type": "display_data"
    }
   ],
   "source": [
    "plt.hist(data['Prediccion'] - data['y'])"
   ]
  },
  {
   "cell_type": "markdown",
   "metadata": {},
   "source": [
    "## Obteniendo los parametros de una regresion lineal\n",
    " * b = sum((xi-xm).(yi-ym))/sum((xi-xm)^2)\n",
    " * a = ym - b.xm"
   ]
  },
  {
   "cell_type": "code",
   "execution_count": 17,
   "metadata": {},
   "outputs": [
    {
     "data": {
      "text/plain": [
       "(1.5887870075625177, 8.044135288777158)"
      ]
     },
     "execution_count": 17,
     "metadata": {},
     "output_type": "execute_result"
    }
   ],
   "source": [
    "x_mean = np.mean(data['x'])\n",
    "y_mean = np.mean(data['y'])\n",
    "x_mean, y_mean"
   ]
  },
  {
   "cell_type": "code",
   "execution_count": 18,
   "metadata": {},
   "outputs": [],
   "source": [
    "data['b_numerador'] = (data['x'] - x_mean) * (data['y'] - y_mean)\n",
    "data['b_denominador']= (data['x'] - x_mean)**2"
   ]
  },
  {
   "cell_type": "code",
   "execution_count": 19,
   "metadata": {},
   "outputs": [
    {
     "data": {
      "text/plain": [
       "(6.0046122556368005, 1.2836982071431642)"
      ]
     },
     "execution_count": 19,
     "metadata": {},
     "output_type": "execute_result"
    }
   ],
   "source": [
    "b = sum(data['b_numerador'])/sum(data['b_denominador'])\n",
    "a = y_mean - b*x_mean\n",
    "a,b"
   ]
  },
  {
   "cell_type": "code",
   "execution_count": 20,
   "metadata": {},
   "outputs": [
    {
     "data": {
      "text/plain": [
       "1.2836982071431642"
      ]
     },
     "execution_count": 20,
     "metadata": {},
     "output_type": "execute_result"
    }
   ],
   "source": [
    "b"
   ]
  },
  {
   "cell_type": "code",
   "execution_count": 21,
   "metadata": {},
   "outputs": [
    {
     "data": {
      "text/plain": [
       "[<matplotlib.lines.Line2D at 0x1decc2c3c50>]"
      ]
     },
     "execution_count": 21,
     "metadata": {},
     "output_type": "execute_result"
    },
    {
     "data": {
      "image/png": "[encoded data removed]",
      "text/plain": [
       "<Figure size 432x288 with 1 Axes>"
      ]
     },
     "metadata": {
      "needs_background": "light"
     },
     "output_type": "display_data"
    }
   ],
   "source": [
    "plt.plot(x, (a + b*x))"
   ]
  },
  {
   "cell_type": "code",
   "execution_count": 22,
   "metadata": {},
   "outputs": [],
   "source": [
    "data['Model'] = a+b*data['x']"
   ]
  },
  {
   "cell_type": "code",
   "execution_count": 23,
   "metadata": {},
   "outputs": [
    {
     "data": {
      "text/html": [
       "<div>\n",
       "<style scoped>\n",
       "    .dataframe tbody tr th:only-of-type {\n",
       "        vertical-align: middle;\n",
       "    }\n",
       "\n",
       "    .dataframe tbody tr th {\n",
       "        vertical-align: top;\n",
       "    }\n",
       "\n",
       "    .dataframe thead th {\n",
       "        text-align: right;\n",
       "    }\n",
       "</style>\n",
       "<table border=\"1\" class=\"dataframe\">\n",
       "  <thead>\n",
       "    <tr style=\"text-align: right;\">\n",
       "      <th></th>\n",
       "      <th>x</th>\n",
       "      <th>y</th>\n",
       "      <th>Prediccion</th>\n",
       "      <th>SSR</th>\n",
       "      <th>SSD</th>\n",
       "      <th>SST</th>\n",
       "      <th>b_numerador</th>\n",
       "      <th>b_denominador</th>\n",
       "      <th>Model</th>\n",
       "    </tr>\n",
       "  </thead>\n",
       "  <tbody>\n",
       "    <tr>\n",
       "      <th>0</th>\n",
       "      <td>0.206383</td>\n",
       "      <td>6.833371</td>\n",
       "      <td>6.268298</td>\n",
       "      <td>3.153598</td>\n",
       "      <td>0.319308</td>\n",
       "      <td>1.465949</td>\n",
       "      <td>1.673765</td>\n",
       "      <td>1.911040</td>\n",
       "      <td>6.269546</td>\n",
       "    </tr>\n",
       "    <tr>\n",
       "      <th>1</th>\n",
       "      <td>3.641106</td>\n",
       "      <td>10.544950</td>\n",
       "      <td>10.733437</td>\n",
       "      <td>7.232345</td>\n",
       "      <td>0.035527</td>\n",
       "      <td>6.254074</td>\n",
       "      <td>5.132468</td>\n",
       "      <td>4.212011</td>\n",
       "      <td>10.678693</td>\n",
       "    </tr>\n",
       "    <tr>\n",
       "      <th>2</th>\n",
       "      <td>3.905820</td>\n",
       "      <td>10.657467</td>\n",
       "      <td>11.077567</td>\n",
       "      <td>9.201706</td>\n",
       "      <td>0.176484</td>\n",
       "      <td>6.829501</td>\n",
       "      <td>6.055176</td>\n",
       "      <td>5.368644</td>\n",
       "      <td>11.018507</td>\n",
       "    </tr>\n",
       "    <tr>\n",
       "      <th>3</th>\n",
       "      <td>0.414840</td>\n",
       "      <td>7.274489</td>\n",
       "      <td>6.539292</td>\n",
       "      <td>2.264554</td>\n",
       "      <td>0.540515</td>\n",
       "      <td>0.592355</td>\n",
       "      <td>0.903524</td>\n",
       "      <td>1.378152</td>\n",
       "      <td>6.537141</td>\n",
       "    </tr>\n",
       "    <tr>\n",
       "      <th>4</th>\n",
       "      <td>1.625208</td>\n",
       "      <td>7.905863</td>\n",
       "      <td>8.112770</td>\n",
       "      <td>0.004711</td>\n",
       "      <td>0.042811</td>\n",
       "      <td>0.019119</td>\n",
       "      <td>-0.005036</td>\n",
       "      <td>0.001326</td>\n",
       "      <td>8.090889</td>\n",
       "    </tr>\n",
       "  </tbody>\n",
       "</table>\n",
       "</div>"
      ],
      "text/plain": [
       "          x          y  Prediccion       SSR       SSD       SST  b_numerador  \\\n",
       "0  0.206383   6.833371    6.268298  3.153598  0.319308  1.465949     1.673765   \n",
       "1  3.641106  10.544950   10.733437  7.232345  0.035527  6.254074     5.132468   \n",
       "2  3.905820  10.657467   11.077567  9.201706  0.176484  6.829501     6.055176   \n",
       "3  0.414840   7.274489    6.539292  2.264554  0.540515  0.592355     0.903524   \n",
       "4  1.625208   7.905863    8.112770  0.004711  0.042811  0.019119    -0.005036   \n",
       "\n",
       "   b_denominador      Model  \n",
       "0       1.911040   6.269546  \n",
       "1       4.212011  10.678693  \n",
       "2       5.368644  11.018507  \n",
       "3       1.378152   6.537141  \n",
       "4       0.001326   8.090889  "
      ]
     },
     "execution_count": 23,
     "metadata": {},
     "output_type": "execute_result"
    }
   ],
   "source": [
    "data.head()"
   ]
  },
  {
   "cell_type": "code",
   "execution_count": 24,
   "metadata": {},
   "outputs": [
    {
     "data": {
      "text/plain": [
       "Text(0.5,1,'valor actual versus prediccion')"
      ]
     },
     "execution_count": 24,
     "metadata": {},
     "output_type": "execute_result"
    },
    {
     "data": {
      "image/png": "[encoded data removed]",
      "text/plain": [
       "<Figure size 432x288 with 1 Axes>"
      ]
     },
     "metadata": {
      "needs_background": "light"
     },
     "output_type": "display_data"
    }
   ],
   "source": [
    "%matplotlib inline\n",
    "plt.plot(x,y_predicha)\n",
    "#plt.plot(x,y_actual, 'ro')\n",
    "plt.plot(data['x'],data['Model'])\n",
    "plt.title(\"valor actual versus prediccion\")"
   ]
  },
  {
   "cell_type": "markdown",
   "metadata": {},
   "source": [
    "## Estadisticos basicos para estimacion de parametros"
   ]
  },
  {
   "cell_type": "code",
   "execution_count": 29,
   "metadata": {},
   "outputs": [
    {
     "data": {
      "text/plain": [
       "0.04083676210894707"
      ]
     },
     "execution_count": 29,
     "metadata": {},
     "output_type": "execute_result"
    }
   ],
   "source": [
    "RSE = np.sqrt(sum((data['Model'] - data['Prediccion'])**2)/(100-2))\n",
    "RSE"
   ]
  },
  {
   "cell_type": "code",
   "execution_count": null,
   "metadata": {},
   "outputs": [],
   "source": []
  }
 ],
 "metadata": {
  "kernelspec": {
   "display_name": "Python 3",
   "language": "python",
   "name": "python3"
  },
  "language_info": {
   "codemirror_mode": {
    "name": "ipython",
    "version": 3
   },
   "file_extension": ".py",
   "mimetype": "text/x-python",
   "name": "python",
   "nbconvert_exporter": "python",
   "pygments_lexer": "ipython3",
   "version": "3.7.1"
  }
 },
 "nbformat": 4,
 "nbformat_minor": 2
}
