{
 "cells": [
  {
   "cell_type": "markdown",
   "metadata": {},
   "source": [
    "# Implementacíon del método de K-means"
   ]
  },
  {
   "cell_type": "code",
   "execution_count": 1,
   "metadata": {},
   "outputs": [],
   "source": [
    "import pandas as pd\n",
    "import numpy as np\n",
    "import matplotlib.pyplot as plt"
   ]
  },
  {
   "cell_type": "code",
   "execution_count": 2,
   "metadata": {},
   "outputs": [
    {
     "data": {
      "text/plain": [
       "array([[0.40970236, 0.25700324, 0.33775137],\n",
       "       [0.65383029, 0.6615623 , 0.4731014 ],\n",
       "       [0.60922468, 0.39375739, 0.91879773],\n",
       "       [0.62544037, 0.61394212, 0.27363425],\n",
       "       [0.42406412, 0.17923415, 0.06592576],\n",
       "       [0.05416651, 0.67041885, 0.65464463],\n",
       "       [0.80942434, 0.24643775, 0.13369941],\n",
       "       [0.07473219, 0.97486038, 0.01286005],\n",
       "       [0.14373353, 0.07708079, 0.49161737],\n",
       "       [0.91149536, 0.22467215, 0.78891041],\n",
       "       [0.37996383, 0.41373089, 0.41452054],\n",
       "       [0.38714642, 0.8286898 , 0.36938638],\n",
       "       [0.44202451, 0.39748967, 0.80959445],\n",
       "       [0.05305676, 0.51804414, 0.52518397],\n",
       "       [0.89080789, 0.89560208, 0.58828006],\n",
       "       [0.95563844, 0.99547578, 0.76326303],\n",
       "       [0.86116027, 0.32408837, 0.98499468],\n",
       "       [0.74903303, 0.64351351, 0.24290884],\n",
       "       [0.27773507, 0.23193568, 0.6852417 ],\n",
       "       [0.16940318, 0.53366235, 0.81591506],\n",
       "       [0.89841473, 0.28927988, 0.67346143],\n",
       "       [0.19071984, 0.85369076, 0.41315438],\n",
       "       [0.13105581, 0.2334894 , 0.01865953],\n",
       "       [0.86982379, 0.80201493, 0.69719921],\n",
       "       [0.60385128, 0.93124106, 0.38321041],\n",
       "       [0.99309903, 0.33381174, 0.09229607],\n",
       "       [0.79411055, 0.23532404, 0.37519959],\n",
       "       [0.61502366, 0.87516506, 0.14110613],\n",
       "       [0.86277066, 0.06854679, 0.50928278],\n",
       "       [0.25463084, 0.87411035, 0.12096   ]])"
      ]
     },
     "execution_count": 2,
     "metadata": {},
     "output_type": "execute_result"
    }
   ],
   "source": [
    "data = np.random.random(90).reshape(30,3)\n",
    "data"
   ]
  },
  {
   "cell_type": "code",
   "execution_count": 5,
   "metadata": {},
   "outputs": [
    {
     "data": {
      "text/plain": [
       "array([[0.60922468, 0.39375739, 0.91879773],\n",
       "       [0.86277066, 0.06854679, 0.50928278]])"
      ]
     },
     "execution_count": 5,
     "metadata": {},
     "output_type": "execute_result"
    }
   ],
   "source": [
    "c1 = np.random.choice(range(len(data)))\n",
    "c2 = np.random.choice(range(len(data)))\n",
    "clust_centers = np.vstack([data[c1], data[c2]])\n",
    "clust_centers"
   ]
  },
  {
   "cell_type": "code",
   "execution_count": 6,
   "metadata": {},
   "outputs": [],
   "source": [
    "from scipy.cluster.vq import vq"
   ]
  },
  {
   "cell_type": "code",
   "execution_count": 9,
   "metadata": {},
   "outputs": [],
   "source": [
    " c, dist = vq(data, clust_centers)"
   ]
  },
  {
   "cell_type": "code",
   "execution_count": 10,
   "metadata": {},
   "outputs": [
    {
     "data": {
      "text/plain": [
       "array([1, 0, 0, 1, 1, 0, 1, 0, 0, 1, 0, 0, 0, 0, 0, 0, 0, 1, 0, 0, 1, 0,\n",
       "       1, 0, 0, 1, 1, 0, 1, 0], dtype=int32)"
      ]
     },
     "execution_count": 10,
     "metadata": {},
     "output_type": "execute_result"
    }
   ],
   "source": [
    "c"
   ]
  },
  {
   "cell_type": "code",
   "execution_count": 11,
   "metadata": {},
   "outputs": [
    {
     "data": {
      "text/plain": [
       "array([0.51981702, 0.52187581, 0.        , 0.63977493, 0.6334671 ,\n",
       "       0.67409792, 0.41899152, 1.2017013 , 0.70671715, 0.32394573,\n",
       "       0.55430584, 0.73507673, 0.19973779, 0.69260504, 0.66361068,\n",
       "       0.7115185 , 0.269643  , 0.6437997 , 0.43660056, 0.47286488,\n",
       "       0.27739543, 0.80147377, 0.89628336, 0.53262747, 0.75879599,\n",
       "       0.51110556, 0.22473799, 0.9146536 , 0.        , 0.9965043 ])"
      ]
     },
     "execution_count": 11,
     "metadata": {},
     "output_type": "execute_result"
    }
   ],
   "source": [
    "dist"
   ]
  },
  {
   "cell_type": "code",
   "execution_count": 12,
   "metadata": {},
   "outputs": [],
   "source": [
    "from scipy.cluster.vq import kmeans"
   ]
  },
  {
   "cell_type": "code",
   "execution_count": 13,
   "metadata": {},
   "outputs": [
    {
     "data": {
      "text/plain": [
       "(array([[0.47648697, 0.7781329 , 0.43165385],\n",
       "        [0.59653192, 0.26039213, 0.48666352]]), 0.40476803397269284)"
      ]
     },
     "execution_count": 13,
     "metadata": {},
     "output_type": "execute_result"
    }
   ],
   "source": [
    "kmeans(data, clust_centers)"
   ]
  },
  {
   "cell_type": "code",
   "execution_count": 14,
   "metadata": {},
   "outputs": [
    {
     "data": {
      "text/plain": [
       "(array([[0.79394677, 0.53340218, 0.50245909],\n",
       "        [0.24229536, 0.50310289, 0.40967251]]), 0.40410785915591446)"
      ]
     },
     "execution_count": 14,
     "metadata": {},
     "output_type": "execute_result"
    }
   ],
   "source": [
    "kmeans(data, 2)"
   ]
  },
  {
   "cell_type": "code",
   "execution_count": null,
   "metadata": {},
   "outputs": [],
   "source": []
  }
 ],
 "metadata": {
  "kernelspec": {
   "display_name": "Python 3",
   "language": "python",
   "name": "python3"
  },
  "language_info": {
   "codemirror_mode": {
    "name": "ipython",
    "version": 3
   },
   "file_extension": ".py",
   "mimetype": "text/x-python",
   "name": "python",
   "nbconvert_exporter": "python",
   "pygments_lexer": "ipython3",
   "version": "3.7.3"
  }
 },
 "nbformat": 4,
 "nbformat_minor": 2
}
