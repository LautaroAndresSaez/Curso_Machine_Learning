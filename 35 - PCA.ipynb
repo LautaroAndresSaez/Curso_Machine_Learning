{
 "cells": [
  {
   "cell_type": "markdown",
   "metadata": {},
   "source": [
    "# Analisis de Componentes Principales"
   ]
  },
  {
   "cell_type": "code",
   "execution_count": 2,
   "metadata": {},
   "outputs": [],
   "source": [
    "import numpy as np\n",
    "import pandas as pd\n",
    "import chart_studio.plotly as py\n",
    "from plotly.graph_objs import *\n",
    "import chart_studio.tools as tls"
   ]
  },
  {
   "cell_type": "code",
   "execution_count": 3,
   "metadata": {},
   "outputs": [],
   "source": [
    "df = pd.read_csv('./datasets/iris/iris.csv')"
   ]
  },
  {
   "cell_type": "code",
   "execution_count": 4,
   "metadata": {},
   "outputs": [],
   "source": [
    "tls.set_credentials_file(username='LautaroSaez', api_key='POWUfGAnu35xdKDFYiOm')"
   ]
  },
  {
   "cell_type": "code",
   "execution_count": 5,
   "metadata": {},
   "outputs": [
    {
     "data": {
      "text/html": [
       "<div>\n",
       "<style scoped>\n",
       "    .dataframe tbody tr th:only-of-type {\n",
       "        vertical-align: middle;\n",
       "    }\n",
       "\n",
       "    .dataframe tbody tr th {\n",
       "        vertical-align: top;\n",
       "    }\n",
       "\n",
       "    .dataframe thead th {\n",
       "        text-align: right;\n",
       "    }\n",
       "</style>\n",
       "<table border=\"1\" class=\"dataframe\">\n",
       "  <thead>\n",
       "    <tr style=\"text-align: right;\">\n",
       "      <th></th>\n",
       "      <th>Sepal.Length</th>\n",
       "      <th>Sepal.Width</th>\n",
       "      <th>Petal.Length</th>\n",
       "      <th>Petal.Width</th>\n",
       "      <th>Species</th>\n",
       "    </tr>\n",
       "  </thead>\n",
       "  <tbody>\n",
       "    <tr>\n",
       "      <th>0</th>\n",
       "      <td>5.1</td>\n",
       "      <td>3.5</td>\n",
       "      <td>1.4</td>\n",
       "      <td>0.2</td>\n",
       "      <td>setosa</td>\n",
       "    </tr>\n",
       "    <tr>\n",
       "      <th>1</th>\n",
       "      <td>4.9</td>\n",
       "      <td>3.0</td>\n",
       "      <td>1.4</td>\n",
       "      <td>0.2</td>\n",
       "      <td>setosa</td>\n",
       "    </tr>\n",
       "    <tr>\n",
       "      <th>2</th>\n",
       "      <td>4.7</td>\n",
       "      <td>3.2</td>\n",
       "      <td>1.3</td>\n",
       "      <td>0.2</td>\n",
       "      <td>setosa</td>\n",
       "    </tr>\n",
       "    <tr>\n",
       "      <th>3</th>\n",
       "      <td>4.6</td>\n",
       "      <td>3.1</td>\n",
       "      <td>1.5</td>\n",
       "      <td>0.2</td>\n",
       "      <td>setosa</td>\n",
       "    </tr>\n",
       "    <tr>\n",
       "      <th>4</th>\n",
       "      <td>5.0</td>\n",
       "      <td>3.6</td>\n",
       "      <td>1.4</td>\n",
       "      <td>0.2</td>\n",
       "      <td>setosa</td>\n",
       "    </tr>\n",
       "  </tbody>\n",
       "</table>\n",
       "</div>"
      ],
      "text/plain": [
       "   Sepal.Length  Sepal.Width  Petal.Length  Petal.Width Species\n",
       "0           5.1          3.5           1.4          0.2  setosa\n",
       "1           4.9          3.0           1.4          0.2  setosa\n",
       "2           4.7          3.2           1.3          0.2  setosa\n",
       "3           4.6          3.1           1.5          0.2  setosa\n",
       "4           5.0          3.6           1.4          0.2  setosa"
      ]
     },
     "execution_count": 5,
     "metadata": {},
     "output_type": "execute_result"
    }
   ],
   "source": [
    "df.head()"
   ]
  },
  {
   "cell_type": "code",
   "execution_count": 6,
   "metadata": {},
   "outputs": [],
   "source": [
    "x = df.iloc[:,0:4].values\n",
    "y = df.iloc[:,4].values"
   ]
  },
  {
   "cell_type": "code",
   "execution_count": 7,
   "metadata": {},
   "outputs": [
    {
     "data": {
      "text/plain": [
       "array([5.1, 3.5, 1.4, 0.2])"
      ]
     },
     "execution_count": 7,
     "metadata": {},
     "output_type": "execute_result"
    }
   ],
   "source": [
    "x[0]"
   ]
  },
  {
   "cell_type": "code",
   "execution_count": 8,
   "metadata": {},
   "outputs": [
    {
     "name": "stderr",
     "output_type": "stream",
     "text": [
      "C:\\Users\\Lautaro Saez\\Anaconda3\\lib\\site-packages\\plotly\\graph_objs\\_deprecations.py:441: DeprecationWarning:\n",
      "\n",
      "plotly.graph_objs.Marker is deprecated.\n",
      "Please replace it with one of the following more specific types\n",
      "  - plotly.graph_objs.scatter.Marker\n",
      "  - plotly.graph_objs.histogram.selected.Marker\n",
      "  - etc.\n",
      "\n",
      "\n",
      "C:\\Users\\Lautaro Saez\\Anaconda3\\lib\\site-packages\\plotly\\graph_objs\\_deprecations.py:40: DeprecationWarning:\n",
      "\n",
      "plotly.graph_objs.Data is deprecated.\n",
      "Please replace it with a list or tuple of instances of the following types\n",
      "  - plotly.graph_objs.Scatter\n",
      "  - plotly.graph_objs.Bar\n",
      "  - plotly.graph_objs.Area\n",
      "  - plotly.graph_objs.Histogram\n",
      "  - etc.\n",
      "\n",
      "\n",
      "C:\\Users\\Lautaro Saez\\Anaconda3\\lib\\site-packages\\plotly\\graph_objs\\_deprecations.py:550: DeprecationWarning:\n",
      "\n",
      "plotly.graph_objs.XAxis is deprecated.\n",
      "Please replace it with one of the following more specific types\n",
      "  - plotly.graph_objs.layout.XAxis\n",
      "  - plotly.graph_objs.layout.scene.XAxis\n",
      "\n",
      "\n",
      "C:\\Users\\Lautaro Saez\\Anaconda3\\lib\\site-packages\\plotly\\graph_objs\\_deprecations.py:578: DeprecationWarning:\n",
      "\n",
      "plotly.graph_objs.YAxis is deprecated.\n",
      "Please replace it with one of the following more specific types\n",
      "  - plotly.graph_objs.layout.YAxis\n",
      "  - plotly.graph_objs.layout.scene.YAxis\n",
      "\n",
      "\n"
     ]
    },
    {
     "data": {
      "text/html": [
       "\n",
       "        <iframe\n",
       "            width=\"100%\"\n",
       "            height=\"525px\"\n",
       "            src=\"https://plot.ly/~LautaroSaez/17.embed\"\n",
       "            frameborder=\"0\"\n",
       "            allowfullscreen\n",
       "        ></iframe>\n",
       "        "
      ],
      "text/plain": [
       "<IPython.lib.display.IFrame at 0x2b981454978>"
      ]
     },
     "execution_count": 8,
     "metadata": {},
     "output_type": "execute_result"
    }
   ],
   "source": [
    "traces = []\n",
    "legend = {\n",
    "    0: True,\n",
    "    1: True,\n",
    "    2: True,\n",
    "    3: True\n",
    "}\n",
    "\n",
    "colors = {\n",
    "    'setosa': 'rgb(255,127,20)',\n",
    "    'versicolor': 'rgb(31, 220, 123)',\n",
    "    'virginica': 'rgb(44, 50, 180)'\n",
    "}\n",
    "\n",
    "for col in range(4):\n",
    "    for key in colors:\n",
    "        traces.append(Histogram(x=x[y==key, col], opacity=.7, xaxis='x%s'%(col+1), marker=Marker(color=colors[key]), name=key, showlegend=legend[col]))\n",
    "    legend = {\n",
    "    0: False,\n",
    "    1: False,\n",
    "    2: False,\n",
    "    3: False\n",
    "    } \n",
    "data = Data(traces)\n",
    "\n",
    "layout = Layout( barmode='overlay', \n",
    "                 xaxis=XAxis(domain=[0, 0.25], title='logitud sepalos [cm]'),\n",
    "                 xaxis2=XAxis(domain=[0.3, .5], title='ancho de sepalos [cm]'),\n",
    "                 xaxis3=XAxis(domain=[0.55, .75], title='logitud de petalos [cm]'),\n",
    "                 xaxis4=XAxis(domain=[0.8, 1], title='ancho de petalos [cm]'),\n",
    "                 yaxis=YAxis(title=\"Número de ejemplares\"),\n",
    "                 title='Distribuciones'\n",
    "               )\n",
    "fig = Figure(data=data, layout=layout)\n",
    "py.iplot(fig)"
   ]
  },
  {
   "cell_type": "code",
   "execution_count": 9,
   "metadata": {},
   "outputs": [],
   "source": [
    "from sklearn.preprocessing import StandardScaler"
   ]
  },
  {
   "cell_type": "code",
   "execution_count": 10,
   "metadata": {},
   "outputs": [],
   "source": [
    "x_std = StandardScaler().fit_transform(x)"
   ]
  },
  {
   "cell_type": "code",
   "execution_count": 11,
   "metadata": {},
   "outputs": [
    {
     "name": "stderr",
     "output_type": "stream",
     "text": [
      "C:\\Users\\Lautaro Saez\\Anaconda3\\lib\\site-packages\\plotly\\graph_objs\\_deprecations.py:441: DeprecationWarning:\n",
      "\n",
      "plotly.graph_objs.Marker is deprecated.\n",
      "Please replace it with one of the following more specific types\n",
      "  - plotly.graph_objs.scatter.Marker\n",
      "  - plotly.graph_objs.histogram.selected.Marker\n",
      "  - etc.\n",
      "\n",
      "\n",
      "C:\\Users\\Lautaro Saez\\Anaconda3\\lib\\site-packages\\plotly\\graph_objs\\_deprecations.py:40: DeprecationWarning:\n",
      "\n",
      "plotly.graph_objs.Data is deprecated.\n",
      "Please replace it with a list or tuple of instances of the following types\n",
      "  - plotly.graph_objs.Scatter\n",
      "  - plotly.graph_objs.Bar\n",
      "  - plotly.graph_objs.Area\n",
      "  - plotly.graph_objs.Histogram\n",
      "  - etc.\n",
      "\n",
      "\n",
      "C:\\Users\\Lautaro Saez\\Anaconda3\\lib\\site-packages\\plotly\\graph_objs\\_deprecations.py:550: DeprecationWarning:\n",
      "\n",
      "plotly.graph_objs.XAxis is deprecated.\n",
      "Please replace it with one of the following more specific types\n",
      "  - plotly.graph_objs.layout.XAxis\n",
      "  - plotly.graph_objs.layout.scene.XAxis\n",
      "\n",
      "\n",
      "C:\\Users\\Lautaro Saez\\Anaconda3\\lib\\site-packages\\plotly\\graph_objs\\_deprecations.py:578: DeprecationWarning:\n",
      "\n",
      "plotly.graph_objs.YAxis is deprecated.\n",
      "Please replace it with one of the following more specific types\n",
      "  - plotly.graph_objs.layout.YAxis\n",
      "  - plotly.graph_objs.layout.scene.YAxis\n",
      "\n",
      "\n"
     ]
    },
    {
     "data": {
      "text/html": [
       "\n",
       "        <iframe\n",
       "            width=\"100%\"\n",
       "            height=\"525px\"\n",
       "            src=\"https://plot.ly/~LautaroSaez/19.embed\"\n",
       "            frameborder=\"0\"\n",
       "            allowfullscreen\n",
       "        ></iframe>\n",
       "        "
      ],
      "text/plain": [
       "<IPython.lib.display.IFrame at 0x2b983abe9b0>"
      ]
     },
     "execution_count": 11,
     "metadata": {},
     "output_type": "execute_result"
    }
   ],
   "source": [
    "traces = []\n",
    "legend = {\n",
    "    0: True,\n",
    "    1: True,\n",
    "    2: True,\n",
    "    3: True\n",
    "}\n",
    "\n",
    "colors = {\n",
    "    'setosa': 'rgb(255,127,20)',\n",
    "    'versicolor': 'rgb(31, 220, 123)',\n",
    "    'virginica': 'rgb(44, 50, 180)'\n",
    "}\n",
    "\n",
    "for col in range(4):\n",
    "    for key in colors:\n",
    "        traces.append(Histogram(x=x_std[y==key, col], opacity=.7, xaxis='x%s'%(col+1), marker=Marker(color=colors[key]), name=key, showlegend=legend[col]))\n",
    "    legend = {\n",
    "    0: False,\n",
    "    1: False,\n",
    "    2: False,\n",
    "    3: False\n",
    "    } \n",
    "data = Data(traces)\n",
    "\n",
    "layout = Layout( barmode='overlay', \n",
    "                 xaxis=XAxis(domain=[0, 0.25], title='logitud sepalos [cm]'),\n",
    "                 xaxis2=XAxis(domain=[0.3, .5], title='ancho de sepalos [cm]'),\n",
    "                 xaxis3=XAxis(domain=[0.55, .75], title='logitud de petalos [cm]'),\n",
    "                 xaxis4=XAxis(domain=[0.8, 1], title='ancho de petalos [cm]'),\n",
    "                 yaxis=YAxis(title=\"Número de ejemplares\"),\n",
    "                 title='Distribuciones'\n",
    "               )\n",
    "fig = Figure(data=data, layout=layout)\n",
    "py.iplot(fig)"
   ]
  },
  {
   "cell_type": "markdown",
   "metadata": {},
   "source": [
    "## Calculamos la descomposicion en autovalores y autovectores\n",
    "### Definimos la matriz de covarianza como: \n",
    "#### $\\sigma_{jk} = \\frac{1}{(n-1)}\\sum_{i=1}^{m} (x_{ij}-\\overline{x_j})(x_{ik}-\\overline{x_k})$\n",
    " \n",
    "#### $\\Sigma=\\frac{1}{n-1}(X-\\overline{x})^T(X-\\overline{x})$\n",
    "\n",
    "### a) Usando matriz de covarianza"
   ]
  },
  {
   "cell_type": "code",
   "execution_count": 12,
   "metadata": {},
   "outputs": [
    {
     "data": {
      "text/plain": [
       "array([-4.73695157e-16, -7.81597009e-16, -4.26325641e-16, -4.73695157e-16])"
      ]
     },
     "execution_count": 12,
     "metadata": {},
     "output_type": "execute_result"
    }
   ],
   "source": [
    "mean_vector = np.mean(x_std, axis=0)\n",
    "mean_vector"
   ]
  },
  {
   "cell_type": "code",
   "execution_count": 13,
   "metadata": {},
   "outputs": [
    {
     "data": {
      "text/plain": [
       "array([[ 1.00671141, -0.11835884,  0.87760447,  0.82343066],\n",
       "       [-0.11835884,  1.00671141, -0.43131554, -0.36858315],\n",
       "       [ 0.87760447, -0.43131554,  1.00671141,  0.96932762],\n",
       "       [ 0.82343066, -0.36858315,  0.96932762,  1.00671141]])"
      ]
     },
     "execution_count": 13,
     "metadata": {},
     "output_type": "execute_result"
    }
   ],
   "source": [
    "cov_matriz = (x_std - mean_vector).T.dot((x_std - mean_vector)) / (x_std.shape[0] - 1)\n",
    "cov_matriz"
   ]
  },
  {
   "cell_type": "code",
   "execution_count": 14,
   "metadata": {},
   "outputs": [
    {
     "data": {
      "text/plain": [
       "(array([2.93808505, 0.9201649 , 0.14774182, 0.02085386]),\n",
       " array([[ 0.52106591, -0.37741762, -0.71956635,  0.26128628],\n",
       "        [-0.26934744, -0.92329566,  0.24438178, -0.12350962],\n",
       "        [ 0.5804131 , -0.02449161,  0.14212637, -0.80144925],\n",
       "        [ 0.56485654, -0.06694199,  0.63427274,  0.52359713]]))"
      ]
     },
     "execution_count": 14,
     "metadata": {},
     "output_type": "execute_result"
    }
   ],
   "source": [
    "eig_vals, eig_vec = np.linalg.eig(cov_matriz)\n",
    "eig_vals, eig_vec"
   ]
  },
  {
   "cell_type": "markdown",
   "metadata": {},
   "source": [
    "### b) Correlacion"
   ]
  },
  {
   "cell_type": "code",
   "execution_count": 15,
   "metadata": {},
   "outputs": [
    {
     "data": {
      "text/plain": [
       "array([[ 1.        , -0.11756978,  0.87175378,  0.81794113],\n",
       "       [-0.11756978,  1.        , -0.4284401 , -0.36612593],\n",
       "       [ 0.87175378, -0.4284401 ,  1.        ,  0.96286543],\n",
       "       [ 0.81794113, -0.36612593,  0.96286543,  1.        ]])"
      ]
     },
     "execution_count": 15,
     "metadata": {},
     "output_type": "execute_result"
    }
   ],
   "source": [
    "corr_matriz = np.corrcoef(x_std.T)\n",
    "corr_matriz"
   ]
  },
  {
   "cell_type": "code",
   "execution_count": 21,
   "metadata": {},
   "outputs": [
    {
     "data": {
      "text/plain": [
       "(array([2.91849782, 0.91403047, 0.14675688, 0.02071484]),\n",
       " array([[ 0.52106591, -0.37741762, -0.71956635,  0.26128628],\n",
       "        [-0.26934744, -0.92329566,  0.24438178, -0.12350962],\n",
       "        [ 0.5804131 , -0.02449161,  0.14212637, -0.80144925],\n",
       "        [ 0.56485654, -0.06694199,  0.63427274,  0.52359713]]))"
      ]
     },
     "execution_count": 21,
     "metadata": {},
     "output_type": "execute_result"
    }
   ],
   "source": [
    "eig_vals, eig_vect = np.linalg.eig(corr_matriz)\n",
    "eig_vals, eig_vect"
   ]
  },
  {
   "cell_type": "markdown",
   "metadata": {},
   "source": [
    "### c) singluar value Decomposition"
   ]
  },
  {
   "cell_type": "code",
   "execution_count": 20,
   "metadata": {},
   "outputs": [
    {
     "data": {
      "text/plain": [
       "(array([[-0.52106591, -0.37741762,  0.71956635,  0.26128628],\n",
       "        [ 0.26934744, -0.92329566, -0.24438178, -0.12350962],\n",
       "        [-0.5804131 , -0.02449161, -0.14212637, -0.80144925],\n",
       "        [-0.56485654, -0.06694199, -0.63427274,  0.52359713]]),\n",
       " array([20.92306556, 11.7091661 ,  4.69185798,  1.76273239]))"
      ]
     },
     "execution_count": 20,
     "metadata": {},
     "output_type": "execute_result"
    }
   ],
   "source": [
    "u, s, v = np.linalg.svd(x_std.T)\n",
    "u, s"
   ]
  },
  {
   "cell_type": "markdown",
   "metadata": {},
   "source": [
    "## 2- Seleccionar las componentes principales"
   ]
  },
  {
   "cell_type": "code",
   "execution_count": 22,
   "metadata": {},
   "outputs": [
    {
     "name": "stdout",
     "output_type": "stream",
     "text": [
      "La longitud del autovector es: 0.9999999999999996\n",
      "La longitud del autovector es: 1.0\n",
      "La longitud del autovector es: 0.9999999999999999\n",
      "La longitud del autovector es: 1.0000000000000002\n"
     ]
    }
   ],
   "source": [
    "for ev in eig_vect:\n",
    "    print('La longitud del autovector es: %s'%(np.linalg.norm(ev)))"
   ]
  },
  {
   "cell_type": "code",
   "execution_count": 27,
   "metadata": {},
   "outputs": [
    {
     "data": {
      "text/plain": [
       "[[2.918497816531996,\n",
       "  array([ 0.52106591, -0.26934744,  0.5804131 ,  0.56485654])],\n",
       " [0.9140304714680699,\n",
       "  array([-0.37741762, -0.92329566, -0.02449161, -0.06694199])],\n",
       " [0.1467568755713154,\n",
       "  array([-0.71956635,  0.24438178,  0.14212637,  0.63427274])],\n",
       " [0.020714836428619078,\n",
       "  array([ 0.26128628, -0.12350962, -0.80144925,  0.52359713])]]"
      ]
     },
     "execution_count": 27,
     "metadata": {},
     "output_type": "execute_result"
    }
   ],
   "source": [
    "eig_pairs = [([(np.abs(eig_vals[i])), eig_vect[:,i]]) for i in range(len(eig_vect))]\n",
    "eig_pairs"
   ]
  },
  {
   "cell_type": "code",
   "execution_count": 29,
   "metadata": {},
   "outputs": [
    {
     "name": "stdout",
     "output_type": "stream",
     "text": [
      "autovalor: 2.918497816531996\tautovector: [ 0.52106591 -0.26934744  0.5804131   0.56485654]\n",
      "autovalor: 0.9140304714680699\tautovector: [-0.37741762 -0.92329566 -0.02449161 -0.06694199]\n",
      "autovalor: 0.1467568755713154\tautovector: [-0.71956635  0.24438178  0.14212637  0.63427274]\n",
      "autovalor: 0.020714836428619078\tautovector: [ 0.26128628 -0.12350962 -0.80144925  0.52359713]\n"
     ]
    }
   ],
   "source": [
    "for ep in eig_pairs:\n",
    "    print('autovalor: %s\\tautovector: %s'%(ep[0], ep[1]))"
   ]
  },
  {
   "cell_type": "code",
   "execution_count": 34,
   "metadata": {},
   "outputs": [
    {
     "name": "stdout",
     "output_type": "stream",
     "text": [
      "La varianza explicativa es [72.9624454132999, 22.85076178670175, 3.6689218892828848, 0.517870910715477]\n"
     ]
    }
   ],
   "source": [
    "total_sum = sum(eig_vals)\n",
    "var_exp = [i/total_sum*100 for i in eig_vals]\n",
    "print('La varianza explicativa es %s'%(var_exp))\n",
    "cum_var_sum = np.cumsum(var_exp)"
   ]
  },
  {
   "cell_type": "code",
   "execution_count": 39,
   "metadata": {},
   "outputs": [
    {
     "data": {
      "text/html": [
       "\n",
       "        <iframe\n",
       "            width=\"100%\"\n",
       "            height=\"525px\"\n",
       "            src=\"https://plot.ly/~LautaroSaez/23.embed\"\n",
       "            frameborder=\"0\"\n",
       "            allowfullscreen\n",
       "        ></iframe>\n",
       "        "
      ],
      "text/plain": [
       "<IPython.lib.display.IFrame at 0x2b98f682b00>"
      ]
     },
     "execution_count": 39,
     "metadata": {},
     "output_type": "execute_result"
    }
   ],
   "source": [
    "plot1 = Bar(x=['CP %s'%i for i in range(1,5)], y=var_exp, showlegend=False)\n",
    "plot2 = Scatter(x=['CP %s'%i for i in range(1,5)], y=cum_var_sum, showlegend=True, name='Porcentaje de Varianza acumulada explicada'\n",
    "        )\n",
    "data = Data([plot1, plot2])\n",
    "\n",
    "layout = Layout(xaxis= XAxis(title='Componentes principales'),\n",
    "                yaxis= YAxis(title='Proncentaje de varianza explicada'),\n",
    "               title='Porcentaje de variabilidad explicada por cada componente principal')\n",
    "\n",
    "fig = Figure(data = data, layout = layout)\n",
    "\n",
    "py.iplot(fig)\n",
    "\n",
    "\n"
   ]
  },
  {
   "cell_type": "markdown",
   "metadata": {},
   "source": [
    "## 3- Construccion de la matriz de proyeccion"
   ]
  },
  {
   "cell_type": "code",
   "execution_count": 42,
   "metadata": {},
   "outputs": [
    {
     "data": {
      "text/plain": [
       "array([[ 0.52106591, -0.37741762],\n",
       "       [-0.26934744, -0.92329566],\n",
       "       [ 0.5804131 , -0.02449161],\n",
       "       [ 0.56485654, -0.06694199]])"
      ]
     },
     "execution_count": 42,
     "metadata": {},
     "output_type": "execute_result"
    }
   ],
   "source": [
    "w = np.hstack([eig_pairs[0][1].reshape(4,1)\n",
    "              ,eig_pairs[1][1].reshape(4,1)])\n",
    "w"
   ]
  },
  {
   "cell_type": "markdown",
   "metadata": {},
   "source": [
    "$Y = X \\cdot W, x \\in M(\\mathbb R)_{150,4}, W \\in M(\\mathbb R)_{4,2}, Y \\in M(\\mathbb R)_{150,2}$"
   ]
  },
  {
   "cell_type": "code",
   "execution_count": 52,
   "metadata": {},
   "outputs": [
    {
     "data": {
      "text/html": [
       "\n",
       "        <iframe\n",
       "            width=\"100%\"\n",
       "            height=\"525px\"\n",
       "            src=\"https://plot.ly/~LautaroSaez/27.embed\"\n",
       "            frameborder=\"0\"\n",
       "            allowfullscreen\n",
       "        ></iframe>\n",
       "        "
      ],
      "text/plain": [
       "<IPython.lib.display.IFrame at 0x2b990fa8da0>"
      ]
     },
     "execution_count": 52,
     "metadata": {},
     "output_type": "execute_result"
    }
   ],
   "source": [
    "Y = x_std.dot(w)\n",
    "results = []\n",
    "\n",
    "for name in ['setosa', 'virginica', 'versicolor']:\n",
    "    results.append( Scatter(x=Y[name==y, 0], y=Y[y==name,1], mode='markers', name=name, \n",
    "                            marker=Marker(size=12, line=Line(color='rgba(220, 220, 220, .15)', width=.5)),\n",
    "                           opacity=.7) )\n",
    "data = Data(results)\n",
    "layout = Layout( showlegend=True, scene=Scene(xaxis=XAxis(title='Componente principal 1'),\n",
    "                                          yaxis=YAxis(title='Componente principal 2')))\n",
    "\n",
    "fig = Figure(data=data, layout=layout)\n",
    "py.iplot(fig)"
   ]
  },
  {
   "cell_type": "code",
   "execution_count": 47,
   "metadata": {},
   "outputs": [
    {
     "data": {
      "text/plain": [
       "(150, 2)"
      ]
     },
     "execution_count": 47,
     "metadata": {},
     "output_type": "execute_result"
    }
   ],
   "source": []
  },
  {
   "cell_type": "code",
   "execution_count": null,
   "metadata": {},
   "outputs": [],
   "source": []
  }
 ],
 "metadata": {
  "kernelspec": {
   "display_name": "Python 3",
   "language": "python",
   "name": "python3"
  },
  "language_info": {
   "codemirror_mode": {
    "name": "ipython",
    "version": 3
   },
   "file_extension": ".py",
   "mimetype": "text/x-python",
   "name": "python",
   "nbconvert_exporter": "python",
   "pygments_lexer": "ipython3",
   "version": "3.7.1"
  }
 },
 "nbformat": 4,
 "nbformat_minor": 2
}
