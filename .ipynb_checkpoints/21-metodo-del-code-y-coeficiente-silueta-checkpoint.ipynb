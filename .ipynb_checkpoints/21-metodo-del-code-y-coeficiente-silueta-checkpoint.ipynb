{
 "cells": [
  {
   "cell_type": "markdown",
   "metadata": {},
   "source": [
    "# El método del codo y el factor de la silueta del clustering"
   ]
  },
  {
   "cell_type": "code",
   "execution_count": 1,
   "metadata": {},
   "outputs": [
    {
     "name": "stderr",
     "output_type": "stream",
     "text": [
      "/home/lautaro/anaconda3/lib/python3.7/importlib/_bootstrap.py:219: RuntimeWarning: numpy.ufunc size changed, may indicate binary incompatibility. Expected 192 from C header, got 216 from PyObject\n",
      "  return f(*args, **kwds)\n"
     ]
    }
   ],
   "source": [
    "import pandas as pd\n",
    "import numpy as np\n",
    "import matplotlib.pyplot as plt\n",
    "\n",
    "from sklearn.cluster import KMeans\n",
    "from sklearn import metrics\n",
    "from scipy.spatial.distance import cdist\n",
    "from sklearn.metrics import silhouette_samples, silhouette_score"
   ]
  },
  {
   "cell_type": "code",
   "execution_count": 12,
   "metadata": {},
   "outputs": [],
   "source": [
    "x1 = np.array([3,1,1,2,1,6,6,6,5,6,7,8,9,8,9,9,8])\n",
    "x2 = np.array([5,4,5,6,5,8,6,7,6,7,1,2,1,2,3,2,3])\n",
    "X = np.array( list(zip( x1, x2 ))).reshape(len(x1), 2) "
   ]
  },
  {
   "cell_type": "code",
   "execution_count": 13,
   "metadata": {},
   "outputs": [
    {
     "data": {
      "image/png": "[encoded data removed]",
      "text/plain": [
       "<Figure size 432x288 with 1 Axes>"
      ]
     },
     "metadata": {
      "needs_background": "light"
     },
     "output_type": "display_data"
    }
   ],
   "source": [
    "plt.plot()\n",
    "plt.xlim( [0,10] )\n",
    "plt.ylim( [0,10] )\n",
    "plt.title('data set a clasificar')\n",
    "plt.xlabel('x')\n",
    "plt.ylabel('y')\n",
    "plt.scatter(x1, x2)\n",
    "plt.show()"
   ]
  },
  {
   "cell_type": "code",
   "execution_count": 15,
   "metadata": {},
   "outputs": [],
   "source": [
    "max_k = 10\n",
    "K = range(1, max_k + 1)\n",
    "ssw = []\n",
    "color_palette = [plt.cm.Spectral(float(i)/max_k) for i in K]\n",
    "centroid = [sum(X)/len(X) for i in K]\n",
    "sst = sum( np.min((cdist(X, centroid, 'euclidean')), axis = 1) )\n",
    "\n",
    "for k in K:\n",
    "    kmeansModel = KMeans( n_clusters= k ).fit(X)\n",
    "    centers =  pd.DataFrame(kmeansModel.cluster_centers_)\n",
    "    labels = kmeansModel.labels_\n",
    "    \n",
    "    ssw_k = sum( np.min( cdist(X, kmeansModel.cluster_centers_, 'euclidean' ), axis = 1) )\n",
    "    ssw.append( ssw_k )\n",
    "    \n",
    "    label_color = [color_palette[i] for i in labels]\n",
    "    "
   ]
  },
  {
   "cell_type": "code",
   "execution_count": 10,
   "metadata": {},
   "outputs": [
    {
     "data": {
      "text/plain": [
       "[(0.8310649750096117, 0.23844675124951936, 0.30880430603613995, 1.0),\n",
       " (0.9568627450980393, 0.42745098039215684, 0.2627450980392157, 1.0),\n",
       " (0.9914648212226067, 0.677354863514033, 0.37808535178777386, 1.0),\n",
       " (0.996078431372549, 0.8784313725490196, 0.5450980392156862, 1.0),\n",
       " (0.998077662437524, 0.9992310649750096, 0.7460207612456747, 1.0),\n",
       " (0.9019607843137256, 0.9607843137254902, 0.5960784313725491, 1.0),\n",
       " (0.6652825836216842, 0.8645905420991927, 0.6432141484044599, 1.0),\n",
       " (0.4, 0.7607843137254902, 0.6470588235294118, 1.0),\n",
       " (0.19946174548250672, 0.5289504036908881, 0.7391003460207612, 1.0),\n",
       " (0.3686274509803922, 0.30980392156862746, 0.6352941176470588, 1.0)]"
      ]
     },
     "execution_count": 10,
     "metadata": {},
     "output_type": "execute_result"
    }
   ],
   "source": []
  },
  {
   "cell_type": "code",
   "execution_count": null,
   "metadata": {},
   "outputs": [],
   "source": []
  }
 ],
 "metadata": {
  "kernelspec": {
   "display_name": "Python 3",
   "language": "python",
   "name": "python3"
  },
  "language_info": {
   "codemirror_mode": {
    "name": "ipython",
    "version": 3
   },
   "file_extension": ".py",
   "mimetype": "text/x-python",
   "name": "python",
   "nbconvert_exporter": "python",
   "pygments_lexer": "ipython3",
   "version": "3.7.3"
  }
 },
 "nbformat": 4,
 "nbformat_minor": 2
}
